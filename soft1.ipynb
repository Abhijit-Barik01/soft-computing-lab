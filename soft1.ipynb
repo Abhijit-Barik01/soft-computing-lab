{
 "cells": [
  {
   "cell_type": "markdown",
   "metadata": {},
   "source": [
    "                                                                       ASSIGNMENT -1\n",
    "\n",
    "                                                              Assignment on basic Python"
   ]
  },
  {
   "cell_type": "raw",
   "metadata": {},
   "source": [
    "1.write a program in python to find all the prime numbers from 1 to 100"
   ]
  },
  {
   "cell_type": "code",
   "execution_count": 3,
   "metadata": {},
   "outputs": [
    {
     "name": "stdout",
     "output_type": "stream",
     "text": [
      "Prime numbers between 1 and 100 are:\n",
      "2\n",
      "3\n",
      "5\n",
      "7\n",
      "11\n",
      "13\n",
      "17\n",
      "19\n",
      "23\n",
      "29\n",
      "31\n",
      "37\n",
      "41\n",
      "43\n",
      "47\n",
      "53\n",
      "59\n",
      "61\n",
      "67\n",
      "71\n",
      "73\n",
      "79\n",
      "83\n",
      "89\n",
      "97\n"
     ]
    }
   ],
   "source": [
    "lower = 1\n",
    "upper = 100\n",
    "\n",
    "print(\"Prime numbers between\", lower, \"and\", upper, \"are:\")\n",
    "\n",
    "for num in range(lower, upper + 1):\n",
    "   # all prime numbers are greater than 1\n",
    "   if num > 1:\n",
    "       for i in range(2, num):\n",
    "           if (num % i) == 0:\n",
    "               break\n",
    "       else:\n",
    "           print(num)"
   ]
  },
  {
   "cell_type": "raw",
   "metadata": {},
   "source": [
    "2. Write a program in python to check whether a number is ARMSTRONG or not."
   ]
  },
  {
   "cell_type": "code",
   "execution_count": 7,
   "metadata": {},
   "outputs": [
    {
     "name": "stdout",
     "output_type": "stream",
     "text": [
      "Enter a number: 153\n",
      "153 is an Armstrong number\n"
     ]
    }
   ],
   "source": [
    "# take input from the user\n",
    "num = int(input(\"Enter a number: \"))\n",
    "order = len(str(num))\n",
    "\n",
    "# initialize sum\n",
    "sum = 0\n",
    "\n",
    "# find the sum of the cube of each digit\n",
    "temp = num\n",
    "while temp > 0:\n",
    "   digit = temp % 10\n",
    "   sum += digit ** order\n",
    "   temp //= 10\n",
    "\n",
    "# display the result\n",
    "if num == sum:\n",
    "   print(num,\"is an Armstrong number\")\n",
    "else:\n",
    "   print(num,\"is not an Armstrong number\")\n"
   ]
  },
  {
   "cell_type": "raw",
   "metadata": {},
   "source": [
    "3. Write a program in python to calculate greatest common divisor of a number "
   ]
  },
  {
   "cell_type": "code",
   "execution_count": 9,
   "metadata": {},
   "outputs": [
    {
     "name": "stdout",
     "output_type": "stream",
     "text": [
      "Enter the first number: 12\n",
      "Enter the second number: 14\n",
      "The greatest common divisor:  2\n"
     ]
    }
   ],
   "source": [
    "def hcf(x, y):\n",
    "\n",
    "    # Get the minimum of two numbers\n",
    "    if x > y:\n",
    "        smaller = y\n",
    "    else:\n",
    "        smaller = x\n",
    "\n",
    "    # Using a for loop to checking the remainder\n",
    "    for i in range(1, smaller + 1):\n",
    "        if ((x % i == 0) and (y % i == 0)):\n",
    "        # If all are zero, then assign\n",
    "            hcf = i\n",
    "    return hcf\n",
    "\n",
    "# Enter two numbers\n",
    "num1 = int(input(\"Enter the first number: \"))\n",
    "num2 = int(input(\"Enter the second number: \"))\n",
    "\n",
    "print(\"The greatest common divisor: \", hcf(num1, num2))"
   ]
  },
  {
   "cell_type": "raw",
   "metadata": {},
   "source": [
    "4. Create a list in python for food items: perform the following tasks on the list\n",
    "a) Append a new item “Daal Makhni” at the end of the list \n",
    "b) Add a new item in the 4th position \n",
    "c) Delete last two items from the list \n",
    "d) Sort the list according to alphabetical order \n",
    "e) Traverse the list and print \n",
    "f) Print the list selectively(Every alternative item) \n",
    "g) Print the list in reverse order"
   ]
  },
  {
   "cell_type": "code",
   "execution_count": 22,
   "metadata": {},
   "outputs": [
    {
     "name": "stdout",
     "output_type": "stream",
     "text": [
      "create a list\n",
      "\n",
      "['Mango', 'apple', 'banana', 'sugarcane'] \n",
      "\n",
      "Append a new item “Daal Makhni” at the end of the list\n",
      " \n",
      "['Mango', 'apple', 'banana', 'sugarcane', 'Daal Makhni'] \n",
      "\n",
      "Add a new item in the 4th position\n",
      "\n",
      "['Mango', 'apple', 'banana', 'Orange', 'sugarcane', 'Daal Makhni'] \n",
      "\n",
      "Sort the list according to alphabetical order\n",
      "\n",
      "['Daal Makhni', 'Mango', 'Orange', 'apple', 'banana', 'sugarcane'] \n",
      "\n",
      "Traverse the list and print\n",
      "\n",
      "Daal Makhni \n",
      "\n",
      "Mango \n",
      "\n",
      "Orange \n",
      "\n",
      "apple \n",
      "\n",
      "banana \n",
      "\n",
      "sugarcane \n",
      "\n",
      "Print the list selectively(Every alternative item)\n",
      "\n",
      "Daal Makhni\n",
      "Orange\n",
      "banana\n",
      "Print the list in reverse order\n",
      "\n",
      "['sugarcane', 'banana', 'apple', 'Orange', 'Mango', 'Daal Makhni']\n"
     ]
    }
   ],
   "source": [
    "print(\"create a list\\n\")\n",
    "\n",
    "\n",
    "listdata = [\"Mango\", \"apple\", \"banana\", \"sugarcane\"]\n",
    "print(listdata,\"\\n\")\n",
    "print(\"Append a new item “Daal Makhni” at the end of the list\\n \")\n",
    "listdata.append(\"Daal Makhni\")\n",
    "print(listdata,\"\\n\")\n",
    "\n",
    "print(\"Add a new item in the 4th position\\n\")\n",
    "listdata.insert(3,'Orange')\n",
    "print(listdata,\"\\n\")\n",
    "print(\"Sort the list according to alphabetical order\\n\")\n",
    "listdata.sort()\n",
    "print(listdata,\"\\n\")\n",
    "print(\"Traverse the list and print\\n\")\n",
    "for i in range(0, len(listdata)):\n",
    "  print(listdata[i],\"\\n\")\n",
    "print(\"Print the list selectively(Every alternative item)\\n\")\n",
    "\n",
    "for count in listdata[::2]:\n",
    "    print(count)\n",
    "    \n",
    "\n",
    "print(\"Print the list in reverse order\\n\")\n",
    "print(listdata[::-1])\n"
   ]
  },
  {
   "cell_type": "raw",
   "metadata": {},
   "source": [
    "5. Create a nested list of students having different lists for different class tests (class test 1 and class test 2). Print the marks of the students in ascending order."
   ]
  },
  {
   "cell_type": "code",
   "execution_count": 12,
   "metadata": {},
   "outputs": [
    {
     "name": "stdout",
     "output_type": "stream",
     "text": [
      "20\n",
      "30\n",
      "50\n",
      "\n",
      "\n",
      "60\n",
      "70\n",
      "100\n",
      "\n",
      "\n"
     ]
    }
   ],
   "source": [
    "classtest1=[20,30,50]\n",
    "classtest2=[70,60,100]\n",
    "classtest1.sort()\n",
    "classtest2.sort()\n",
    "classtest=[classtest1,classtest2]\n",
    "for item in classtest:\n",
    "        for x in item:\n",
    "            print(x)\n",
    "        print(\"\\n\")\n",
    "        "
   ]
  },
  {
   "cell_type": "raw",
   "metadata": {},
   "source": [
    "6. Create a dictionary in python for displaying information of employee (Emp ID, Emp name, Dept, Designation, Salary). Do the following tasks with the dictionary: \n",
    "a) Add at least 6 member in emp list \n",
    "b) Add a new employee details \n",
    "c) Add a new field called incentives \n",
    "d) Select the list of employee who is/are getting incentives more than 1000 rs \n",
    "e) Remove an employee from HR department \n",
    "f) Select the name of employee who is getting maximum salary \n",
    "g) Select the name and salary of employee , department wise"
   ]
  },
  {
   "cell_type": "code",
   "execution_count": 15,
   "metadata": {},
   "outputs": [
    {
     "name": "stdout",
     "output_type": "stream",
     "text": [
      "{'Emp ID': [], 'Emp name': [], 'Dept': [], 'Designation': [], 'salary': []}\n",
      " Add at least 6 member in emp list \n",
      "\n",
      "{'Emp ID': [], 'Emp name': ['Avijit', 'Asok', 'Priya', 'Hardik', 'Alok', 'Anik'], 'Dept': [], 'Designation': [], 'salary': []}\n",
      " After adding new employee details\n",
      " \n",
      "{'Emp ID': [1], 'Emp name': ['Avijit', 'Asok', 'Priya', 'Hardik', 'Alok', 'Anik'], 'Dept': ['IT'], 'Designation': ['Associate'], 'salary': [60000]}\n",
      "After adding new field \n",
      "\n",
      "{'Emp ID': [1], 'Emp name': ['Avijit', 'Asok', 'Priya', 'Hardik', 'Alok', 'Anik'], 'Dept': ['IT'], 'Designation': ['Associate'], 'salary': [60000], 'incentives': 1000}\n"
     ]
    }
   ],
   "source": [
    "emp={'Emp ID':[], 'Emp name':[],'Dept':[],'Designation':[],'salary':[]}\n",
    "print(emp)\n",
    "print(\" Add at least 6 member in emp list \\n\")\n",
    "emp['Emp name'].append('Avijit')\n",
    "emp['Emp name'].append('Asok')\n",
    "emp['Emp name'].append('Priya')\n",
    "emp['Emp name'].append('Hardik')\n",
    "emp['Emp name'].append('Alok')\n",
    "emp['Emp name'].append('Anik')\n",
    "print(emp)\n",
    "print(\" After adding new employee details\\n \")\n",
    "emp['Emp ID'].append(1)\n",
    "emp['Dept'].append('IT')\n",
    "emp['Designation'].append('Associate')\n",
    "emp['salary'].append(60000)\n",
    "print(emp)\n",
    "#Add a new field\n",
    "print(\"After adding new field \\n\")\n",
    "emp['incentives']=1000\n",
    "\n",
    "print(emp)"
   ]
  },
  {
   "cell_type": "raw",
   "metadata": {},
   "source": [
    "7. Create a nested dictionary on python(Student – BCA/MCA)\n",
    "Perform the following tasks on the nested dictionary:\n",
    "a) Access the element from nested dictionary\n",
    "b) Merge two dictionary\n",
    "c) Remove two items from nested dictionary\n",
    "d) Remove last inserted item\n",
    "\n",
    "e) Add an element in a specific position\n",
    "f) Remove last inserted item from the dictionary"
   ]
  },
  {
   "cell_type": "code",
   "execution_count": 43,
   "metadata": {},
   "outputs": [
    {
     "name": "stdout",
     "output_type": "stream",
     "text": [
      "After creating nested dictionary\n",
      " {'BCA': {1: 'Avi', 2: 'Alok', 3: 'Risav'}, 'MCA': {1: 'Anu', 2: 'priya', 3: 'Asok'}}\n",
      "Access the element from nested dictionary\n",
      "\n",
      "Avi priya\n",
      "After merging\n",
      "{'d': 6, 'c': 4, 'a': 10, 'b': 8}\n",
      "After deletion\n",
      "{'c': 4, 'a': 10, 'b': 8}\n",
      "Remove last inserted item\n",
      "\n",
      "{'c': 4, 'a': 10}\n"
     ]
    }
   ],
   "source": [
    "Student = { 'BCA': {1: 'Avi',2:'Alok',3:'Risav'},\n",
    "               'MCA': {1: 'Anu',2:'priya',3:'Asok'}\n",
    "              }\n",
    "\n",
    "print(\"After creating nested dictionary\\n\",Student)\n",
    "\n",
    "print(\"Access the element from nested dictionary\\n\")\n",
    "print(Student['BCA'][1],Student['MCA'][2])\n",
    "\n",
    "# Python code to merge dict using update() method\n",
    "def Merge(dict1, dict2):\n",
    "\treturn(dict2.update(dict1))\n",
    "\t\n",
    "\n",
    "dict1 = {'a': 10, 'b': 8}\n",
    "dict2 = {'d': 6, 'c': 4}\n",
    "\n",
    "# This return None\n",
    "Merge(dict1, dict2)\n",
    "\n",
    "# changes made in dict2\n",
    "print(\"After merging\")\n",
    "print(dict2)\n",
    "print(\"After deletion\")\n",
    "del dict2['d']\n",
    "print(dict2)\n",
    "dict2.popitem()\n",
    "print(\"Remove last inserted item\\n\")\n",
    "print(dict2)\n",
    "\n"
   ]
  },
  {
   "cell_type": "code",
   "execution_count": null,
   "metadata": {},
   "outputs": [],
   "source": []
  },
  {
   "cell_type": "code",
   "execution_count": null,
   "metadata": {},
   "outputs": [],
   "source": []
  },
  {
   "cell_type": "code",
   "execution_count": null,
   "metadata": {},
   "outputs": [],
   "source": []
  },
  {
   "cell_type": "code",
   "execution_count": null,
   "metadata": {},
   "outputs": [],
   "source": []
  }
 ],
 "metadata": {
  "kernelspec": {
   "display_name": "Python 3",
   "language": "python",
   "name": "python3"
  },
  "language_info": {
   "codemirror_mode": {
    "name": "ipython",
    "version": 3
   },
   "file_extension": ".py",
   "mimetype": "text/x-python",
   "name": "python",
   "nbconvert_exporter": "python",
   "pygments_lexer": "ipython3",
   "version": "3.8.5"
  }
 },
 "nbformat": 4,
 "nbformat_minor": 4
}
