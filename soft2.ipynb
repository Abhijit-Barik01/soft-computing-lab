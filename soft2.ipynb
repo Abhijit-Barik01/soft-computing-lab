{
 "cells": [
  {
   "cell_type": "markdown",
   "metadata": {},
   "source": [
    "\n",
    "                                                                \n",
    "                                                                ASSIGNMENT-2\n",
    "                                                            (Assignment on Numpy and MatPlotLib)\n",
    "                                                            "
   ]
  },
  {
   "cell_type": "raw",
   "metadata": {},
   "source": [
    "1.Create a numpy array containing integer from 1 to 100.Display the array"
   ]
  },
  {
   "cell_type": "code",
   "execution_count": 2,
   "metadata": {},
   "outputs": [
    {
     "name": "stdout",
     "output_type": "stream",
     "text": [
      "output\n",
      " [  1   2   3   4   5   6   7   8   9  10  11  12  13  14  15  16  17  18\n",
      "  19  20  21  22  23  24  25  26  27  28  29  30  31  32  33  34  35  36\n",
      "  37  38  39  40  41  42  43  44  45  46  47  48  49  50  51  52  53  54\n",
      "  55  56  57  58  59  60  61  62  63  64  65  66  67  68  69  70  71  72\n",
      "  73  74  75  76  77  78  79  80  81  82  83  84  85  86  87  88  89  90\n",
      "  91  92  93  94  95  96  97  98  99 100]\n"
     ]
    }
   ],
   "source": [
    "import numpy as np\n",
    "np_array= np.arange(1, 101)\n",
    "print(\"output\\n\",np_array)"
   ]
  },
  {
   "cell_type": "raw",
   "metadata": {},
   "source": [
    "2.Show only the even numbers in the array.Append three numbers 102,112,134 in the array"
   ]
  },
  {
   "cell_type": "code",
   "execution_count": 34,
   "metadata": {},
   "outputs": [
    {
     "name": "stdout",
     "output_type": "stream",
     "text": [
      "output\n",
      " [  2   4   6   8  10  12  14  16  18  20  22  24  26  28  30  32  34  36\n",
      "  38  40  42  44  46  48  50  52  54  56  58  60  62  64  66  68  70  72\n",
      "  74  76  78  80  82  84  86  88  90  92  94  96  98 100 102 112 134]\n"
     ]
    }
   ],
   "source": [
    "array=np_array[np_array%2==0]\n",
    "array=np.append(array,[102,112,134])\n",
    "print(\"output\\n\",array)"
   ]
  },
  {
   "cell_type": "raw",
   "metadata": {},
   "source": [
    "3.Remove 91 to 96 from the array .Insert 104 as the fifth element in the array"
   ]
  },
  {
   "cell_type": "code",
   "execution_count": 37,
   "metadata": {},
   "outputs": [
    {
     "name": "stdout",
     "output_type": "stream",
     "text": [
      "output\n",
      " [  1   2   3   4 104   5   6   7   8   9  10  11  12  13  14  15  16  17\n",
      "  18  19  20  21  22  23  24  25  26  27  28  29  30  31  32  33  34  35\n",
      "  36  37  38  39  40  41  42  43  44  45  46  47  48  49  50  51  52  53\n",
      "  54  55  56  57  58  59  60  61  62  63  64  65  66  67  68  69  70  71\n",
      "  72  73  74  75  76  77  78  79  80  81  82  83  84  85  86  87  88  89\n",
      "  90  97  98  99 100]\n"
     ]
    }
   ],
   "source": [
    "r =range(90,96)\n",
    "index=list(r)\n",
    "np_array = np.delete(np_array, index)\n",
    "np_array= np.insert(np_array,4,104)\n",
    "print(\"output\\n\",np_array)"
   ]
  },
  {
   "cell_type": "raw",
   "metadata": {},
   "source": [
    "4.Create two numpy array:Array1: {12,34,56,32,18} Array 2:{ 11,8,23,45,33}"
   ]
  },
  {
   "cell_type": "code",
   "execution_count": 39,
   "metadata": {},
   "outputs": [
    {
     "name": "stdout",
     "output_type": "stream",
     "text": [
      "output\n",
      " Array1= [12 34 56 32 18] Array2= [11  8 23 45 33]\n"
     ]
    }
   ],
   "source": [
    "Array1=np.array([12,34,56,32,18])\n",
    "Array2=np.array([11,8,23,45,33])\n",
    "print(\"output\\n Array1= {} Array2= {}\".format(Array1,Array2))"
   ]
  },
  {
   "cell_type": "raw",
   "metadata": {},
   "source": [
    "5.Add both the arrays.Then sort the array"
   ]
  },
  {
   "cell_type": "code",
   "execution_count": 42,
   "metadata": {},
   "outputs": [
    {
     "name": "stdout",
     "output_type": "stream",
     "text": [
      "added array :  [23 42 79 77 51]\n",
      "After sorting: [23 42 51 77 79]\n"
     ]
    }
   ],
   "source": [
    "out_arr = np.add(Array1, Array2) \n",
    "print (\"added array : \", out_arr)\n",
    "print(\"After sorting:\" ,np.sort(out_arr))"
   ]
  },
  {
   "cell_type": "raw",
   "metadata": {},
   "source": [
    "6.Remove second last element of the array"
   ]
  },
  {
   "cell_type": "code",
   "execution_count": 44,
   "metadata": {},
   "outputs": [
    {
     "name": "stdout",
     "output_type": "stream",
     "text": [
      "remaining elements after deleting 1st element  [23 42 79 51]\n"
     ]
    }
   ],
   "source": [
    "n=len(out_arr)\n",
    "print(\"remaining elements after deleting 1st element \",np.delete(out_arr, n-2))"
   ]
  },
  {
   "cell_type": "raw",
   "metadata": {},
   "source": [
    "7.Read the array in reverse order"
   ]
  },
  {
   "cell_type": "code",
   "execution_count": 45,
   "metadata": {},
   "outputs": [
    {
     "name": "stdout",
     "output_type": "stream",
     "text": [
      "output\n",
      " [51 77 79 42 23]\n"
     ]
    }
   ],
   "source": [
    "reversed_arr =out_arr[::-1]\n",
    "print(\"output\\n\",reversed_arr)"
   ]
  },
  {
   "cell_type": "raw",
   "metadata": {},
   "source": [
    "8.Find the position of 42 from the array "
   ]
  },
  {
   "cell_type": "code",
   "execution_count": 47,
   "metadata": {},
   "outputs": [
    {
     "name": "stdout",
     "output_type": "stream",
     "text": [
      "output\n",
      " (array([3], dtype=int64),)\n"
     ]
    }
   ],
   "source": [
    "result = np.where(reversed_arr == 42)\n",
    "print(\"output\\n\",result)"
   ]
  },
  {
   "cell_type": "raw",
   "metadata": {},
   "source": [
    "9.Create numpy arrays having marks of student:Subjects: Physics,Chemistry,Math .No of students: 8(minimum)"
   ]
  },
  {
   "cell_type": "code",
   "execution_count": 3,
   "metadata": {},
   "outputs": [],
   "source": [
    "import pandas as pd\n"
   ]
  },
  {
   "cell_type": "code",
   "execution_count": 14,
   "metadata": {},
   "outputs": [
    {
     "name": "stdout",
     "output_type": "stream",
     "text": [
      "21 32 43 56 21 56 78 98\n",
      "20 33 45 53 25 52 76 93\n",
      "11 23 33 44 55 66 77 88\n",
      "   Physics  Chemistry  Math\n",
      "0       21         20    11\n",
      "1       32         33    23\n",
      "2       43         45    33\n",
      "3       56         53    44\n",
      "4       21         25    55\n",
      "5       56         52    66\n",
      "6       78         76    77\n",
      "7       98         93    88\n"
     ]
    }
   ],
   "source": [
    "my_np1=np.array([[int(x) for x in input().split()],\n",
    "                 [int(y) for y in input().split()],[int(z) for z in input().split()]])\n",
    "#print(my_np1)\n",
    "\n",
    "my_pd=pd.DataFrame(data=[my_np1[0],my_np1[1],my_np1[2]]).T\n",
    "#print(my_pd)\n",
    "my_pd.columns=['Physics','Chemistry','Math']\n",
    "print(my_pd)"
   ]
  },
  {
   "cell_type": "raw",
   "metadata": {},
   "source": [
    "10.Find the following:\n",
    "    Highest marks in math  \n",
    "    Highest marks in total "
   ]
  },
  {
   "cell_type": "code",
   "execution_count": 28,
   "metadata": {},
   "outputs": [
    {
     "name": "stdout",
     "output_type": "stream",
     "text": [
      "   Physics  Chemistry  Math  Total\n",
      "0       21         20    11     52\n",
      "1       32         33    23     88\n",
      "2       43         45    33    121\n",
      "3       56         53    44    153\n",
      "4       21         25    55    101\n",
      "5       56         52    66    174\n",
      "6       78         76    77    231\n",
      "7       98         93    88    279\n",
      "Highest marks in math  88\n",
      "Highest marks in Total  279\n"
     ]
    }
   ],
   "source": [
    "my_pd['Total']=my_pd['Physics'] + my_pd['Chemistry']+my_pd['Math']\n",
    "print(my_pd)\n",
    "print(\"Highest marks in math \",max(my_pd['Math']))\n",
    "print(\"Highest marks in Total \",max(my_pd['Total']))\n"
   ]
  },
  {
   "cell_type": "raw",
   "metadata": {},
   "source": [
    "11.Sorted array for physics according to marks ascending order"
   ]
  },
  {
   "cell_type": "code",
   "execution_count": 33,
   "metadata": {},
   "outputs": [
    {
     "name": "stdout",
     "output_type": "stream",
     "text": [
      "Sorted array for physics according to marks ascending order\n"
     ]
    },
    {
     "data": {
      "text/plain": [
       "0    21\n",
       "4    21\n",
       "1    32\n",
       "2    43\n",
       "3    56\n",
       "5    56\n",
       "6    78\n",
       "7    98\n",
       "Name: Physics, dtype: int64"
      ]
     },
     "execution_count": 33,
     "metadata": {},
     "output_type": "execute_result"
    }
   ],
   "source": [
    "print(\"Sorted array for physics according to marks ascending order\")\n",
    "my_pd['Physics'].sort_values(ascending = True)"
   ]
  },
  {
   "cell_type": "raw",
   "metadata": {},
   "source": [
    "12.Remove below 40% marks from chemistry"
   ]
  },
  {
   "cell_type": "code",
   "execution_count": 79,
   "metadata": {},
   "outputs": [
    {
     "name": "stdout",
     "output_type": "stream",
     "text": [
      "1    32.0\n",
      "2    43.0\n",
      "3    56.0\n",
      "4     NaN\n",
      "5    56.0\n",
      "6    78.0\n",
      "7    98.0\n",
      "Name: Chemistry, dtype: float64\n"
     ]
    }
   ],
   "source": [
    "l=[]\n",
    "for i,j in enumerate(my_pd['Chemistry']):\n",
    "    \n",
    "    if(j< 40):\n",
    "      #print(i)\n",
    "        l.append(i)\n",
    "        my_pd['Chemistry'].drop(my_pd['Chemistry'].index[l])\n",
    "#print(l)\n",
    "        \n",
    "print(my_pd['Chemistry'])   "
   ]
  },
  {
   "cell_type": "raw",
   "metadata": {},
   "source": [
    "13.Plot Physics vs chemistry vs maths marks"
   ]
  },
  {
   "cell_type": "code",
   "execution_count": 92,
   "metadata": {},
   "outputs": [
    {
     "data": {
      "text/plain": [
       "<AxesSubplot:>"
      ]
     },
     "execution_count": 92,
     "metadata": {},
     "output_type": "execute_result"
    },
    {
     "data": {
      "image/png": "[encoded data removed]",
      "text/plain": [
       "<Figure size 432x288 with 1 Axes>"
      ]
     },
     "metadata": {
      "needs_background": "light"
     },
     "output_type": "display_data"
    }
   ],
   "source": [
    "my_pd.plot()"
   ]
  },
  {
   "cell_type": "code",
   "execution_count": null,
   "metadata": {},
   "outputs": [],
   "source": [
    "14.Create the following lists:"
   ]
  },
  {
   "cell_type": "code",
   "execution_count": 93,
   "metadata": {},
   "outputs": [
    {
     "name": "stdout",
     "output_type": "stream",
     "text": [
      "   Day  Steps Cover  Calorie Burn(kcal)\n",
      "0    1         5000                  20\n",
      "1    2         5000                  20\n",
      "2    3         5000                  20\n",
      "3    4         6000                  30\n",
      "4    5         6400                  30\n",
      "5    6         6200                  30\n",
      "6    7         6800                  35\n",
      "7    8         5400                  25\n",
      "8    9         6800                  37\n",
      "9   10         7000                  40\n"
     ]
    }
   ],
   "source": [
    "import pandas as pd\n",
    "   \n",
    "data = {'Day': [1,2,3,4,5,6,7,8,9,10],\n",
    "        'Steps Cover': [5000,5000,5000,6000,6400,6200,6800,5400,6800,7000],\n",
    "        'Calorie Burn(kcal)': [20,20,20,30,30,30,35,25,37,40]\n",
    "\n",
    "        \n",
    "       }\n",
    "  \n",
    "df = pd.DataFrame(data,columns=['Day','Steps Cover','Calorie Burn(kcal)'])\n",
    "print (df)"
   ]
  },
  {
   "cell_type": "raw",
   "metadata": {},
   "source": [
    "15.Draw the line plot. Show the title as “Fitness Measure”. Give the marker with red color and green face color. Only the horizontal gridline should \n",
    "be shown"
   ]
  },
  {
   "cell_type": "code",
   "execution_count": 95,
   "metadata": {},
   "outputs": [
    {
     "data": {
      "text/plain": [
       "Text(0.5, 1.0, 'Fitness Measure')"
      ]
     },
     "execution_count": 95,
     "metadata": {},
     "output_type": "execute_result"
    },
    {
     "data": {
      "image/png": "[encoded data removed]",
      "text/plain": [
       "<Figure size 432x288 with 1 Axes>"
      ]
     },
     "metadata": {
      "needs_background": "light"
     },
     "output_type": "display_data"
    }
   ],
   "source": [
    "import matplotlib.pyplot as plt\n",
    "x=[1,2,3,4]\n",
    "plt.plot(x)\n",
    "plt.title('Fitness Measure')"
   ]
  },
  {
   "cell_type": "raw",
   "metadata": {},
   "source": [
    "16.Plot the following from iris dataset.\n",
    "Plot sepal length vs petal length (scatter plot)\n",
    "Plot sepal width vs petal width\n",
    "Plot histogram with petal length"
   ]
  },
  {
   "cell_type": "code",
   "execution_count": 96,
   "metadata": {},
   "outputs": [],
   "source": [
    "import pandas as pd\n",
    "import seaborn as sns\n",
    "import matplotlib.pyplot as plt\n",
    "import numpy as np"
   ]
  },
  {
   "cell_type": "code",
   "execution_count": 98,
   "metadata": {},
   "outputs": [],
   "source": [
    "iris = pd.read_csv(\"iris.csv\")"
   ]
  },
  {
   "cell_type": "code",
   "execution_count": 101,
   "metadata": {},
   "outputs": [
    {
     "data": {
      "image/png": "[encoded data removed]",
      "text/plain": [
       "<Figure size 432x288 with 1 Axes>"
      ]
     },
     "metadata": {
      "needs_background": "light"
     },
     "output_type": "display_data"
    }
   ],
   "source": [
    "iris.plot(kind='scatter', x='sepal_length', y='sepal_length') \n",
    "plt.title('sepal length vs petal length ')\n",
    "plt.show()\n"
   ]
  },
  {
   "cell_type": "code",
   "execution_count": 105,
   "metadata": {},
   "outputs": [
    {
     "data": {
      "image/png": "[encoded data removed]",
      "text/plain": [
       "<Figure size 432x288 with 1 Axes>"
      ]
     },
     "metadata": {
      "needs_background": "light"
     },
     "output_type": "display_data"
    }
   ],
   "source": [
    "iris.plot(kind='scatter', x='sepal_width', y='petal_width') \n",
    "plt.title('sepal width vs petal width ')\n",
    "plt.show()\n"
   ]
  },
  {
   "cell_type": "code",
   "execution_count": 113,
   "metadata": {},
   "outputs": [
    {
     "data": {
      "image/png": "[encoded data removed]",
      "text/plain": [
       "<Figure size 432x288 with 1 Axes>"
      ]
     },
     "metadata": {
      "needs_background": "light"
     },
     "output_type": "display_data"
    }
   ],
   "source": [
    "\n",
    "plt.hist(iris['petal_length'], bins = 20, color = \"green\")\n",
    "plt.title('histogram with petal length')\n",
    "plt.show()\n"
   ]
  },
  {
   "cell_type": "code",
   "execution_count": null,
   "metadata": {},
   "outputs": [],
   "source": []
  }
 ],
 "metadata": {
  "kernelspec": {
   "display_name": "Python 3",
   "language": "python",
   "name": "python3"
  },
  "language_info": {
   "codemirror_mode": {
    "name": "ipython",
    "version": 3
   },
   "file_extension": ".py",
   "mimetype": "text/x-python",
   "name": "python",
   "nbconvert_exporter": "python",
   "pygments_lexer": "ipython3",
   "version": "3.8.5"
  }
 },
 "nbformat": 4,
 "nbformat_minor": 4
}
