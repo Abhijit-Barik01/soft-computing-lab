{
 "cells": [
  {
   "cell_type": "markdown",
   "metadata": {},
   "source": [
    "#                                                           Assignment 3\n"
   ]
  },
  {
   "cell_type": "markdown",
   "metadata": {},
   "source": [
    "###                                                                 Operations on Fuzzy Set and Relations"
   ]
  },
  {
   "cell_type": "code",
   "execution_count": null,
   "metadata": {},
   "outputs": [],
   "source": []
  },
  {
   "cell_type": "raw",
   "metadata": {},
   "source": [
    "1. Write a program to display fuzzy union on two fuzzy set\n",
    "A:{0.5,0.4,0.7,0.3,0.8,0.9}\n",
    "B:{0.6,0.7,0.4,0.2,0.8,1}"
   ]
  },
  {
   "cell_type": "code",
   "execution_count": 27,
   "metadata": {},
   "outputs": [
    {
     "name": "stdout",
     "output_type": "stream",
     "text": [
      "The First Fuzzy Set is : {'a': 0.5, 'b': 0.4, 'c': 0.7, 'd': 0.3, 'e': 0.8, 'f': 0.9}\n",
      "The Second Fuzzy Set is : {'a': 0.6, 'b': 0.7, 'c': 0.4, 'd': 0.2, 'e': 0.8, 'f': 1}\n",
      "Fuzzy Set Union is\t: {'a': 0.6, 'b': 0.7, 'c': 0.7, 'd': 0.3, 'e': 0.8, 'f': 1}\n"
     ]
    }
   ],
   "source": [
    "\n",
    "# Union of Two Fuzzy Sets\n",
    "A = dict()\n",
    "B = dict()\n",
    "Y = dict()\n",
    "\n",
    "A = {\"a\": 0.5, \"b\": 0.4, \"c\": 0.7, \"d\": 0.3,\"e\":0.8,\"f\":0.9}\n",
    "B = {\"a\": 0.6, \"b\": 0.7, \"c\": 0.4, \"d\": 0.2,\"e\":0.8,\"f\":1}\n",
    "\n",
    "print('The First Fuzzy Set is :', A)\n",
    "print('The Second Fuzzy Set is :', B)\n",
    "\n",
    "\n",
    "for A_key, B_key in zip(A, B):\n",
    "\tA_value = A[A_key]\n",
    "\tB_value = B[B_key]\n",
    "\n",
    "\tif A_value > B_value:\n",
    "\t\tY[A_key] = A_value\n",
    "\telse:\n",
    "\t\tY[B_key] = B_value\n",
    "\t\t\n",
    "print('Fuzzy Set Union is\\t:', Y)\n"
   ]
  },
  {
   "cell_type": "raw",
   "metadata": {},
   "source": [
    "2. Write a program to display fuzzy intersection operation on two fuzzy set\n",
    "A:{0.3,0.5,0.7,0.6,0.7,0.8}\n",
    "B:{0.4,0.6,0.7,0.8,0.9,1}"
   ]
  },
  {
   "cell_type": "code",
   "execution_count": 26,
   "metadata": {},
   "outputs": [
    {
     "name": "stdout",
     "output_type": "stream",
     "text": [
      "The First Fuzzy Set is : {'a': 0.3, 'b': 0.5, 'c': 0.7, 'd': 0.6, 'e': 0.7, 'f': 0.8}\n",
      "The Second Fuzzy Set is : {'a': 0.4, 'b': 0.6, 'c': 0.7, 'd': 0.8, 'e': 0.9, 'f': 1}\n",
      "Fuzzy Set Intersection is : {'a': 0.3, 'b': 0.5, 'c': 0.7, 'd': 0.6, 'e': 0.7, 'f': 0.8}\n"
     ]
    }
   ],
   "source": [
    "# Example to Demonstrate\n",
    "# Intersection of Two Fuzzy Sets\n",
    "A = dict()\n",
    "B = dict()\n",
    "Y = dict()\n",
    "\n",
    "A = {\"a\": 0.3, \"b\": 0.5, \"c\": 0.7, \"d\": 0.6, \"e\":0.7, \"f\":0.8}\n",
    "B = {\"a\": 0.4, \"b\": 0.6, \"c\": 0.7, \"d\": 0.8, \"e\":0.9, \"f\":1}\n",
    "\n",
    "print('The First Fuzzy Set is :', A)\n",
    "print('The Second Fuzzy Set is :', B)\n",
    "\n",
    "\n",
    "for A_key, B_key in zip(A, B):\n",
    "\tA_value = A[A_key]\n",
    "\tB_value = B[B_key]\n",
    "\n",
    "\tif A_value < B_value:\n",
    "\t\tY[A_key] = A_value\n",
    "\telse:\n",
    "\t\tY[B_key] = B_value\n",
    "print('Fuzzy Set Intersection is :', Y)\n"
   ]
  },
  {
   "cell_type": "raw",
   "metadata": {},
   "source": [
    "3. Write a program to display fuzzy Set Difference operation on two fuzzy set\n",
    "A:{0.3,0.5,0.7,0.6,0.7,0.8}\n",
    "B:{0.4,0.6,0.7,0.8,0.9,1}\n",
    "Perform the task for both A-B and B-A"
   ]
  },
  {
   "cell_type": "code",
   "execution_count": 33,
   "metadata": {},
   "outputs": [
    {
     "name": "stdout",
     "output_type": "stream",
     "text": [
      "The First Fuzzy Set is : {'a': 0.3, 'b': 0.5, 'c': 0.7, 'd': 0.6, 'e': 0.7, 'f': 0.8}\n",
      "The Second Fuzzy Set is : {'a': 0.4, 'b': 0.6, 'c': 0.7, 'd': 0.8, 'e': 0.9, 'f': 1}\n",
      "\n",
      "Fuzzy Set Difference is : {'a': 0.3, 'b': 0.4, 'c': 0.30000000000000004, 'd': 0.19999999999999996, 'e': 0.09999999999999998, 'f': 0}\n"
     ]
    }
   ],
   "source": [
    "\n",
    "# Difference Between Two Fuzzy Sets\n",
    "A = dict()\n",
    "B = dict()\n",
    "Y = dict()\n",
    "\n",
    "A = {\"a\": 0.3, \"b\": 0.5, \"c\": 0.7, \"d\": 0.6, \"e\":0.7, \"f\":0.8}\n",
    "B = {\"a\": 0.4, \"b\": 0.6, \"c\": 0.7, \"d\": 0.8, \"e\":0.9, \"f\":1}\n",
    "\n",
    "print('The First Fuzzy Set is :', A)\n",
    "print('The Second Fuzzy Set is :', B)\n",
    "\n",
    "\n",
    "for A_key, B_key in zip(A, B):\n",
    "\tA_value = A[A_key]\n",
    "\tB_value = B[B_key]\n",
    "\tB_value = 1 - B_value\n",
    "\n",
    "\tif A_value < B_value:\n",
    "\t\tY[A_key] = A_value\n",
    "\telse:\n",
    "\t\tY[B_key] = B_value\n",
    "\t\t\n",
    "print('\\nFuzzy Set Difference is :', Y)\n"
   ]
  },
  {
   "cell_type": "raw",
   "metadata": {},
   "source": [
    "5. Write a program to determine max-min and max-product operation on two fuzzy \n",
    "relations:\n",
    "A:{0.3,0.5,0.7,0.6,0.7,0.8}\n",
    "B:{0.4,0.6,0.7,0.8,0.9,1}"
   ]
  },
  {
   "cell_type": "code",
   "execution_count": 43,
   "metadata": {},
   "outputs": [
    {
     "name": "stdout",
     "output_type": "stream",
     "text": [
      "a=>\n",
      " [[0.3 0.5 0.7]\n",
      " [0.6 0.7 0.8]]\n",
      "b=>\n",
      " [[0.4 0.6 0.7]\n",
      " [0.8 0.9 1. ]]\n",
      "Max-Min=>\n",
      " [[0.7 0.7]\n",
      " [0.7 0.8]]\n",
      "Max-Product => :\n",
      "[[0.49 0.7 ]\n",
      " [0.56 0.8 ]]\n",
      "\n",
      "\n"
     ]
    }
   ],
   "source": [
    "\n",
    "import numpy as np\n",
    "def maxMin(a,b):\n",
    "    z=[]\n",
    "    for x1 in a:\n",
    "        for y1 in b:\n",
    "            z.append(max(np.minimum(x1, y1)))\n",
    "    return np.array(z).reshape((a.shape[0], b.shape[0]))\n",
    "def maxProduct(a,b):\n",
    "    z=[]\n",
    "    for x1 in a:\n",
    "        for y1 in b:\n",
    "            z.append(max(np.multiply(x1, y1)))\n",
    "    return np.array(z).reshape((a.shape[0], b.shape[0]))\n",
    "a=np.array([[0.3,0.5,0.7],[0.6,0.7,0.8]])\n",
    "b=np.array([[0.4,0.6,0.7],[0.8,0.9,1]])\n",
    "print('a=>\\n',a)\n",
    "print('b=>\\n',b)\n",
    "print('Max-Min=>\\n',str(maxMin(a,b)))\n",
    "print(\"Max-Product => :\\n\" + str(maxProduct(a, b)) + \"\\n\\n\")"
   ]
  },
  {
   "cell_type": "raw",
   "metadata": {},
   "source": [
    "6. Write a program to determine the max-min and max- product between two fuzzy \n",
    "relations:\n",
    "A:{0.2,0.3,0.5,0.6,0.8,1}\n",
    "B:{0.1,0.4,0.7,0.6,0.7,0.9}"
   ]
  },
  {
   "cell_type": "code",
   "execution_count": 44,
   "metadata": {},
   "outputs": [
    {
     "name": "stdout",
     "output_type": "stream",
     "text": [
      "a=>\n",
      " [[0.2 0.3 0.5]\n",
      " [0.6 0.8 1. ]]\n",
      "b=>\n",
      " [[0.1 0.4 0.7]\n",
      " [0.6 0.7 0.9]]\n",
      "Max-Min=>\n",
      " [[0.5 0.5]\n",
      " [0.7 0.9]]\n",
      "Max-Product => :\n",
      "[[0.35 0.45]\n",
      " [0.7  0.9 ]]\n",
      "\n",
      "\n"
     ]
    }
   ],
   "source": [
    "\n",
    "import numpy as np\n",
    "def maxMin(a,b):\n",
    "    z=[]\n",
    "    for x1 in a:\n",
    "        for y1 in b:\n",
    "            z.append(max(np.minimum(x1, y1)))\n",
    "    return np.array(z).reshape((a.shape[0], b.shape[0]))\n",
    "def maxProduct(a,b):\n",
    "    z=[]\n",
    "    for x1 in a:\n",
    "        for y1 in b:\n",
    "            z.append(max(np.multiply(x1, y1)))\n",
    "    return np.array(z).reshape((a.shape[0], b.shape[0]))\n",
    "a=np.array([[0.2,0.3,0.5],[0.6,0.8,1]])\n",
    "b=np.array([[0.1,0.4,0.7],[0.6,0.7,0.9]])\n",
    "print('a=>\\n',a)\n",
    "print('b=>\\n',b)\n",
    "print('Max-Min=>\\n',str(maxMin(a,b)))\n",
    "print(\"Max-Product => :\\n\" + str(maxProduct(a, b)) + \"\\n\\n\")"
   ]
  },
  {
   "cell_type": "code",
   "execution_count": null,
   "metadata": {},
   "outputs": [],
   "source": []
  }
 ],
 "metadata": {
  "kernelspec": {
   "display_name": "Python 3",
   "language": "python",
   "name": "python3"
  },
  "language_info": {
   "codemirror_mode": {
    "name": "ipython",
    "version": 3
   },
   "file_extension": ".py",
   "mimetype": "text/x-python",
   "name": "python",
   "nbconvert_exporter": "python",
   "pygments_lexer": "ipython3",
   "version": "3.8.5"
  }
 },
 "nbformat": 4,
 "nbformat_minor": 4
}
